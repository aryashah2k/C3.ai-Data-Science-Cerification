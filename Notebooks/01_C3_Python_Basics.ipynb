{
 "cells": [
  {
   "cell_type": "markdown",
   "metadata": {
    "heading_collapsed": true
   },
   "source": [
    "# Set kernel to: `py-pythonEnv`\n",
    "If this kernel is not available, see the Kernel Installation Instructions section located in at the [bottom](#apdx)  of this Notebook."
   ]
  },
  {
   "cell_type": "code",
   "execution_count": null,
   "metadata": {},
   "outputs": [],
   "source": [
    "import pandas as pd\n",
    "# view available ActionRuntimes\n",
    "pd.DataFrame(c3.MetadataStore.tag().runtimes().toJson()).T"
   ]
  },
  {
   "cell_type": "code",
   "execution_count": null,
   "metadata": {},
   "outputs": [],
   "source": [
    "# get just the Python runtimes\n",
    "runtimes = pd.DataFrame(c3.MetadataStore.tag().runtimes().toJson()).T\n",
    "runtimes[runtimes[\"language\"] == \"Python\"]"
   ]
  },
  {
   "cell_type": "markdown",
   "metadata": {},
   "source": [
    "# Import libraries used in this notebook:"
   ]
  },
  {
   "cell_type": "code",
   "execution_count": null,
   "metadata": {
    "ExecuteTime": {
     "end_time": "2022-04-01T12:51:54.860580Z",
     "start_time": "2022-04-01T12:51:54.715816Z"
    }
   },
   "outputs": [],
   "source": [
    "from datetime import datetime\n",
    "import pandas as pd"
   ]
  },
  {
   "cell_type": "markdown",
   "metadata": {},
   "source": [
    "# Table of Contents "
   ]
  },
  {
   "cell_type": "markdown",
   "metadata": {},
   "source": [
    "* [C3 Python Basics](#1)\n",
    "    * [Fetch and Filter in Python](#1.1)\n",
    "        * [A. Common Comands](#1.1A)\n",
    "        * [B. View Type Dcumentation](#1.1B)\n",
    "        * [C. Fetch Method in Python](#1.1C)\n",
    "        * [D. Evaluate Method in Python](#1.1D)\n",
    "        * [E. Other Useful Operations](#1.1E)\n",
    "    * [CRUD operations in Python](#1.2)\n",
    "    * [Prototype Methods in Python](#1.3)\n",
    "        * [A. Write code](#1.3A)\n",
    "        * [A. Test code](#1.3B)\n",
    "    * [AsyncActions](#1.4)\n",
    "\n",
    "[Appendix - Kernel Installation Instructions](#apdx)"
   ]
  },
  {
   "cell_type": "markdown",
   "metadata": {},
   "source": [
    "# C3 Python Basics <a class=\"anchor\" id=\"1\">"
   ]
  },
  {
   "cell_type": "markdown",
   "metadata": {},
   "source": [
    "We can access the C3 Type system and the data provisioned on a given Tenant and Tag using the C3 Python SDK."
   ]
  },
  {
   "cell_type": "code",
   "execution_count": null,
   "metadata": {
    "ExecuteTime": {
     "end_time": "2022-04-01T12:51:55.638753Z",
     "start_time": "2022-04-01T12:51:55.515704Z"
    }
   },
   "outputs": [],
   "source": [
    "c3"
   ]
  },
  {
   "cell_type": "markdown",
   "metadata": {},
   "source": [
    "If you are running this notebook within the training environments on your tag, the c3 variable connection is already set up for you. If you are running the notebook locally and would like to connect remotely to the c3 environment, you will have to configure this variable yourself using [c3Remote](https://developer.c3.ai/docs/7.28.0/guide/guide-ml-ds/ds-c3-remote)."
   ]
  },
  {
   "cell_type": "markdown",
   "metadata": {
    "heading_collapsed": true
   },
   "source": [
    "## 1. Fetching and Filtering Data in Python <a class=\"anchor\" id=\"1.1\">"
   ]
  },
  {
   "cell_type": "markdown",
   "metadata": {
    "ExecuteTime": {
     "end_time": "2021-05-26T17:26:30.188754Z",
     "start_time": "2021-05-26T17:26:30.179932Z"
    },
    "code_folding": [],
    "hidden": true
   },
   "source": [
    "### A. Comon Commands <a class=\"anchor\" id=\"1.1A\">\n",
    "Some useful operations/commands for Jupyter Notebooks and the JS Console."
   ]
  },
  {
   "cell_type": "markdown",
   "metadata": {
    "ExecuteTime": {
     "end_time": "2021-05-26T17:26:30.188754Z",
     "start_time": "2021-05-26T17:26:30.179932Z"
    },
    "code_folding": [],
    "heading_collapsed": true,
    "hidden": true
   },
   "source": [
    "#### Generic Type System Calls:\n",
    "-  `c3.Type.method(...)`\n",
    "\n",
    "| Use Case | Jupyter Notebook Command | JS Console Command |\n",
    "| --- | --- | --- |\n",
    "|View Documentation on `MyType` | help(c3.MyType) | c3ShowType(MyType) |\n",
    "    |View Documentation on a `MyType` method | help(c3.MyType.myMethod) | N/A |\n",
    "| Find the number `MyType` records| c3.MyType.fetchCount() | c3Count(MyType) |\n",
    "| Fetch `MyType` records| c3.MyType.fetch()| MyType.fetch() |\n",
    "| Fetch `MyType` records in a table| pd.DataFrame(c3.MyType.fetch().objs.toJson()) ${^\\dagger}$ | c3Grid(MyType.fetch())|\n",
    "| Fetch `MyType` records in a table with filters | c3.MyType.fetch(spec={'filter':\" ... \"})${^\\ddagger}$ | c3Grid(MyType.fetch({filter: \" ... \"})) |\n",
    "\n",
    "> ${^\\dagger}$ - Instead of using a C3 function, you can use a `pandas` `DataFrame`.\n",
    "\n",
    "> ${^\\ddagger}$ - Notice the extra single-quote around `filter`, and assigning the variable `spec` in the JSON-object, this is the `FetchSpec`. Run `help(c3.FetchSpec)` in Jupyter for more details.     "
   ]
  },
  {
   "cell_type": "markdown",
   "metadata": {
    "hidden": true
   },
   "source": [
    "### B. View Type Dcumentation:<a class=\"anchor\" id=\"1.1B\">\n",
    "\n",
    "We can view Type documentation directly in our Jupyter notebook (as well as in the console as you saw earlier).    \n",
    "\n",
    "Use `help(c3.MyType)` to see Type Documentation."
   ]
  },
  {
   "cell_type": "code",
   "execution_count": null,
   "metadata": {
    "ExecuteTime": {
     "end_time": "2022-04-01T12:51:56.613404Z",
     "start_time": "2022-04-01T12:51:56.432929Z"
    },
    "hidden": true,
    "scrolled": true
   },
   "outputs": [],
   "source": [
    "help(c3.FetchSpec)"
   ]
  },
  {
   "cell_type": "code",
   "execution_count": null,
   "metadata": {
    "ExecuteTime": {
     "end_time": "2022-04-01T12:51:56.683290Z",
     "start_time": "2022-04-01T12:51:56.614676Z"
    },
    "hidden": true
   },
   "outputs": [],
   "source": [
    "help(c3.MyEntityType) # view the documentation on an entity Type of your choice from the Entity Relation Diagram"
   ]
  },
  {
   "cell_type": "markdown",
   "metadata": {
    "hidden": true
   },
   "source": [
    "#### View Method Documentation:\n",
    "Use `help(c3.MyType.myMethod)` to view documentation for a specific method on a Type."
   ]
  },
  {
   "cell_type": "code",
   "execution_count": null,
   "metadata": {
    "ExecuteTime": {
     "end_time": "2022-04-01T12:51:56.684665Z",
     "start_time": "2022-04-01T12:51:56.543Z"
    },
    "hidden": true,
    "scrolled": true
   },
   "outputs": [],
   "source": [
    "help(c3.Persistable.fetch)"
   ]
  },
  {
   "cell_type": "markdown",
   "metadata": {
    "hidden": true
   },
   "source": [
    "### C. Fetch Method in Python <a class='anchor' id='1.1C'>"
   ]
  },
  {
   "cell_type": "markdown",
   "metadata": {
    "hidden": true
   },
   "source": [
    "To view what records exist for a given Type, we can execute a `.fetch()` query on entity (Persistable aka Entity) Types. Why Persistable/Entity Types? Because by definition, those are the Types that have a datatable attached to them."
   ]
  },
  {
   "cell_type": "markdown",
   "metadata": {
    "hidden": true
   },
   "source": [
    "#### Simple Fetch:\n",
    "Use `c3.MyType.fetch()` to get data with the standard fields"
   ]
  },
  {
   "cell_type": "code",
   "execution_count": null,
   "metadata": {
    "ExecuteTime": {
     "end_time": "2022-04-01T12:51:57.029133Z",
     "start_time": "2022-04-01T12:51:57.009294Z"
    },
    "hidden": true,
    "scrolled": true
   },
   "outputs": [],
   "source": [
    "c3.City.fetch()"
   ]
  },
  {
   "cell_type": "code",
   "execution_count": null,
   "metadata": {
    "ExecuteTime": {
     "end_time": "2022-04-01T12:51:57.114257Z",
     "start_time": "2022-04-01T12:51:57.094809Z"
    },
    "hidden": true
   },
   "outputs": [],
   "source": [
    "c3.MyChosenEntityType.fetch()# fetch another entity Type of your choice from the Entity Relation Diagram"
   ]
  },
  {
   "cell_type": "markdown",
   "metadata": {
    "hidden": true
   },
   "source": [
    "#### Fetch and Dislpay in a Pandas DataFrame:\n",
    "Use `.objs.toJson()` to get a fetch result in an array for a json and wrap that with `pd.DataFrame` to plot a table as a pandas dataframe."
   ]
  },
  {
   "cell_type": "code",
   "execution_count": null,
   "metadata": {
    "ExecuteTime": {
     "end_time": "2022-04-01T12:51:57.948965Z",
     "start_time": "2022-04-01T12:51:57.923724Z"
    },
    "code_folding": [],
    "hidden": true
   },
   "outputs": [],
   "source": [
    "myFetchResult = c3.City.fetch()\n",
    "\n",
    "pd.DataFrame(myFetchResult.objs.toJson())"
   ]
  },
  {
   "cell_type": "markdown",
   "metadata": {
    "hidden": true
   },
   "source": [
    "#### Fetch Count:\n",
    "There are additional fetch-related methods, such as `c3.MyType.fetchCount()`, that you can explore in the documentation."
   ]
  },
  {
   "cell_type": "code",
   "execution_count": null,
   "metadata": {
    "ExecuteTime": {
     "end_time": "2022-04-01T12:51:58.355916Z",
     "start_time": "2022-04-01T12:51:58.343456Z"
    },
    "hidden": true
   },
   "outputs": [],
   "source": [
    "c3.City.fetchCount()"
   ]
  },
  {
   "cell_type": "markdown",
   "metadata": {
    "hidden": true
   },
   "source": [
    "#### Fancy Fetches:\n",
    "You can refine your fetch query to only return certain records by using a fetchSpec. This allows you, for example, to limit the number of results, filter the data to be returned, or order the data by a particular column (see `help(c3.FetchSpec)` to read about more options)."
   ]
  },
  {
   "cell_type": "code",
   "execution_count": null,
   "metadata": {
    "ExecuteTime": {
     "end_time": "2022-04-01T12:51:59.344942Z",
     "start_time": "2022-04-01T12:51:58.813978Z"
    },
    "hidden": true
   },
   "outputs": [],
   "source": [
    "help(c3.ExpressionEngineFunction)"
   ]
  },
  {
   "cell_type": "code",
   "execution_count": null,
   "metadata": {
    "ExecuteTime": {
     "end_time": "2022-04-01T12:51:59.367165Z",
     "start_time": "2022-04-01T12:51:59.346410Z"
    },
    "hidden": true
   },
   "outputs": [],
   "source": [
    "myFetchResult = c3.City.fetch(spec={\n",
    "#                                       'limit': 2,\n",
    "#                                       'include': 'latitude',\n",
    "#                                       'include': 'buildings',\n",
    "#                                       'order': \"ascending(latitude)\",\n",
    "                                      'filter': \"startsWith(name, 'M')\"\n",
    "                                 })\n",
    "\n",
    "pd.DataFrame(myFetchResult.objs.toJson())"
   ]
  },
  {
   "cell_type": "markdown",
   "metadata": {
    "hidden": true
   },
   "source": [
    "### Use This Space for \"CHALLENGE: Fetch and Filter in Jupyter\"\n",
    "    \n",
    "    Add additional cells as needed."
   ]
  },
  {
   "cell_type": "code",
   "execution_count": null,
   "metadata": {
    "hidden": true
   },
   "outputs": [],
   "source": []
  },
  {
   "cell_type": "code",
   "execution_count": null,
   "metadata": {
    "hidden": true
   },
   "outputs": [],
   "source": []
  },
  {
   "cell_type": "code",
   "execution_count": null,
   "metadata": {
    "ExecuteTime": {
     "end_time": "2021-10-07T14:13:56.640625Z",
     "start_time": "2021-10-07T14:13:56.630171Z"
    },
    "hidden": true
   },
   "outputs": [],
   "source": []
  },
  {
   "cell_type": "markdown",
   "metadata": {
    "hidden": true
   },
   "source": [
    "### D. Evaluate Method in Python <a class=\"anchor\" id=\"1.1D\">"
   ]
  },
  {
   "cell_type": "markdown",
   "metadata": {
    "hidden": true
   },
   "source": [
    "The `evaluate` method can be used similarly to a fetch. It returns tuples, so in order to view the results, you will have to access the tuples instead of the objs."
   ]
  },
  {
   "cell_type": "markdown",
   "metadata": {
    "hidden": true
   },
   "source": [
    "Use `c3.MyType.evaluate(spec={'projection':\"myField, myFunction\"}).tuples`\n"
   ]
  },
  {
   "cell_type": "code",
   "execution_count": null,
   "metadata": {
    "ExecuteTime": {
     "end_time": "2022-04-01T12:52:01.895967Z",
     "start_time": "2022-04-01T12:52:01.878303Z"
    },
    "hidden": true
   },
   "outputs": [],
   "source": [
    "c3.City.evaluate(spec = {\n",
    "                             'projection':\"name, latitude, longitude\",\n",
    "#                              'filter': \"id == 'RWC'\",#\" && myOtherField == 'myOtherString'\",\n",
    "#                              'group':\"name\",\n",
    "                             \"order\":\"ascending(name)\",\n",
    "                             #'limit': 10,\n",
    "                             #'offset': 5\n",
    "                        }).tuples"
   ]
  },
  {
   "cell_type": "markdown",
   "metadata": {
    "hidden": true
   },
   "source": [
    "Additionally, with `evaluate`, you can navigate between Types when fetching data, so that you can pull data from more distant (i.e. not directly connected) Types. Compare using a `fetch` to using `evaluate`:"
   ]
  },
  {
   "cell_type": "code",
   "execution_count": null,
   "metadata": {
    "ExecuteTime": {
     "end_time": "2022-04-01T12:52:02.267812Z",
     "start_time": "2022-04-01T12:52:02.232872Z"
    },
    "hidden": true
   },
   "outputs": [],
   "source": [
    "viewBuildingsInTheCity = c3.City.fetch(spec={\n",
    "#                                       'limit': -1,\n",
    "                                      'include': 'buildings',\n",
    "#                                       'order': \"ascending(latitude)\",\n",
    "#                                       'filter': \"contains(name, 'e')\"\n",
    "                                 })\n",
    "\n",
    "pd.DataFrame(viewBuildingsInTheCity.objs.toJson())"
   ]
  },
  {
   "cell_type": "code",
   "execution_count": null,
   "metadata": {
    "ExecuteTime": {
     "end_time": "2022-04-01T12:52:02.439189Z",
     "start_time": "2022-04-01T12:52:02.404599Z"
    },
    "hidden": true,
    "scrolled": true
   },
   "outputs": [],
   "source": [
    "viewApartmentsInTheCity = c3.City.evaluate(spec={\n",
    "                                                'projection': 'buildings.apartments',\n",
    "                                                'filter': \"contains(name, 'San')\"\n",
    "                                 })\n",
    "\n",
    "viewApartmentsInTheCity.tuples"
   ]
  },
  {
   "cell_type": "markdown",
   "metadata": {
    "hidden": true
   },
   "source": [
    "We've written a helper function for you to convert these tuples to a pandas dataframe."
   ]
  },
  {
   "cell_type": "code",
   "execution_count": null,
   "metadata": {
    "ExecuteTime": {
     "end_time": "2022-04-01T12:52:02.810906Z",
     "start_time": "2022-04-01T12:52:02.802834Z"
    },
    "code_folding": [],
    "hidden": true
   },
   "outputs": [],
   "source": [
    "def evaluate_projection(c3_type, projection_dict, column_name = [], ignore_ref = True):\n",
    "    \"\"\"\n",
    "    evaluate_projection(c3_type, projection_dict, column_name = [])\n",
    "    evalaute_projection_data unpack data from evalaute projection to pandas dataframe\n",
    "    parameters\n",
    "    ----------\n",
    "    c3_type : c3.Type\n",
    "        Type to evalaute projection\n",
    "    projection_dict : dict\n",
    "        A dictionary contain projection details \n",
    "    column_name : [string], default = []\n",
    "        A list of string contains column name for projection. If not specified, \n",
    "        the function extract columns name from column header. \n",
    "    ignore_ref : bool, default = True\n",
    "        if ignore_ref is True, the return data frame will unpack the reference column. In other words,\n",
    "        instead of getting c3.PhysicalAsset(id: \"abcd\"), you will get \"abcd\"\n",
    "    returns\n",
    "    -------\n",
    "    df : pandas dataframe\n",
    "        output of evalaute projection \n",
    "    examples\n",
    "    --------\n",
    "    >>> projection_dict = {'projection': \"assetId, count())\",\n",
    "                             'group': 'assetId',\n",
    "                             'filter': \"startsWith(workOrderType, '{}')\".format('correction')}\n",
    "    >>> c3_type = c3.WorkOrder \n",
    "    >>> evaluate_projection(c3_type, projection_dict)\n",
    "        assetId    count()\n",
    "    0   ABHDG        5\n",
    "    1   UUYSH101B   10\n",
    "    \"\"\"\n",
    "    import pandas as pd\n",
    "    import warnings \n",
    "    import re\n",
    "    #Input check#\n",
    "    if not isinstance(c3_type, c3.Type):\n",
    "        raise ValueError(\"The input c3_type is not c3.Type (e.g., c3.PhysicalAsset)\")\n",
    "    if len(column_name) != 0:\n",
    "        nCol = len(projection_dict['projection'].split(\",\"))\n",
    "        if nCol != len(column_name):\n",
    "            raise ValueError(\"Number of column names in column_name are not equal to number of projections\")\n",
    "    if not \"projection\" in projection_dict:\n",
    "        raise ValueError(\"projection_dict must contain 'projection' as one of the key\")\n",
    "    #### Evaluate projection ####\n",
    "    data = c3_type.evaluate(projection_dict)\n",
    "    if data.count == 0:\n",
    "        warnings.warn(\"No output from evalaute projection\")\n",
    "        return pd.DataFrame([])\n",
    "    N = len(data.tuples[0].cells)          #number of projection's columns \n",
    "    #one line of unpack data \n",
    "    df = pd.DataFrame([[x.cells[i].value() for x in data.tuples] for i in range(N)]).transpose()\n",
    "    #unpack reference columns (Forien key column)\n",
    "    if ignore_ref == True:\n",
    "        for i in range(N):\n",
    "            if \"c3.\" in str(type(df.iloc[0, i])):\n",
    "                df[i] = df[i].apply(lambda x: [list(x) for x in zip(*x.__dict__.items())][-1][0])    \n",
    "    #Renaming column \n",
    "    if len(column_name) == 0:\n",
    "        r = re.compile(r'(?:[^,(]|\\([^)]*\\))+')\n",
    "        column_name = r.findall(projection_dict['projection'])\n",
    "    rename_dict = {k: v for (k, v) in zip(range(N), column_name)}\n",
    "    df.rename(rename_dict, axis = 1, inplace = True) \n",
    "    return df"
   ]
  },
  {
   "cell_type": "code",
   "execution_count": null,
   "metadata": {
    "ExecuteTime": {
     "end_time": "2022-04-01T12:52:02.998845Z",
     "start_time": "2022-04-01T12:52:02.996504Z"
    },
    "hidden": true
   },
   "outputs": [],
   "source": [
    "projection_dict = {\n",
    "                    'projection': 'buildings.apartments',\n",
    "                    'filter': \"contains(name, 'San')\"\n",
    "                  }\n",
    "c3_type = c3.City"
   ]
  },
  {
   "cell_type": "code",
   "execution_count": null,
   "metadata": {
    "ExecuteTime": {
     "end_time": "2022-04-01T12:52:03.348569Z",
     "start_time": "2022-04-01T12:52:03.278730Z"
    },
    "hidden": true
   },
   "outputs": [],
   "source": [
    "evaluate_projection(c3_type, projection_dict)"
   ]
  },
  {
   "cell_type": "markdown",
   "metadata": {
    "hidden": true
   },
   "source": [
    "In addition, queries with `evaluate` can also be used to show the results of transformations, e.g. mathematical operations, on a field."
   ]
  },
  {
   "cell_type": "code",
   "execution_count": null,
   "metadata": {
    "ExecuteTime": {
     "end_time": "2022-04-01T12:52:03.643593Z",
     "start_time": "2022-04-01T12:52:03.641014Z"
    },
    "hidden": true
   },
   "outputs": [],
   "source": [
    "projection_dict = {\n",
    "                         'projection':\"name, latitude, cos(latitude), longitude, 3*longitude\",\n",
    "#                          'filter': \"contains(name,'a')\",\n",
    "                         #'group':\"myField\",\n",
    "#                          \"order\":\"ascending(name)\",\n",
    "                         #'limit': 10,\n",
    "                         #'offset': 5\n",
    "                  }\n",
    "c3_type = c3.City"
   ]
  },
  {
   "cell_type": "code",
   "execution_count": null,
   "metadata": {
    "ExecuteTime": {
     "end_time": "2022-04-01T12:52:03.946986Z",
     "start_time": "2022-04-01T12:52:03.802031Z"
    },
    "hidden": true
   },
   "outputs": [],
   "source": [
    "evaluate_projection(c3_type, projection_dict)"
   ]
  },
  {
   "cell_type": "markdown",
   "metadata": {
    "hidden": true
   },
   "source": [
    "**WARNING** `evaluate` displays some odd behavior when returning projected nested arrays. If the results contain multiple \"levels\" (e.g one City [top level] has many Buildings [nested level], which have many Apartments [nested-nested-level]), then the projection will \"cut off\" at the top level. Compare the following `evaluation`s:"
   ]
  },
  {
   "cell_type": "code",
   "execution_count": null,
   "metadata": {
    "ExecuteTime": {
     "end_time": "2022-04-01T12:52:04.199004Z",
     "start_time": "2022-04-01T12:52:04.196507Z"
    },
    "hidden": true
   },
   "outputs": [],
   "source": [
    "projection_dict = {\n",
    "                    'projection': 'name, buildings, buildings.apartments',\n",
    "#                     'filter': \"contains(name, 'e')\"\n",
    "                  }\n",
    "c3_type = c3.City"
   ]
  },
  {
   "cell_type": "code",
   "execution_count": null,
   "metadata": {
    "ExecuteTime": {
     "end_time": "2022-04-01T12:52:04.506719Z",
     "start_time": "2022-04-01T12:52:04.379002Z"
    },
    "hidden": true
   },
   "outputs": [],
   "source": [
    "evaluate_projection(c3_type, projection_dict)\n",
    "# only returning the \"top level\", so the first Building in the City and the first Apartment in that Building"
   ]
  },
  {
   "cell_type": "code",
   "execution_count": null,
   "metadata": {
    "ExecuteTime": {
     "end_time": "2022-04-01T12:52:04.575097Z",
     "start_time": "2022-04-01T12:52:04.572564Z"
    },
    "hidden": true
   },
   "outputs": [],
   "source": [
    "projection_dict = {\n",
    "                    'projection': 'buildings.apartments',\n",
    "#                     'filter': \"contains(name, 'e')\"\n",
    "                  }\n",
    "c3_type = c3.City"
   ]
  },
  {
   "cell_type": "code",
   "execution_count": null,
   "metadata": {
    "ExecuteTime": {
     "end_time": "2022-04-01T12:52:05.011121Z",
     "start_time": "2022-04-01T12:52:04.778992Z"
    },
    "hidden": true
   },
   "outputs": [],
   "source": [
    "evaluate_projection(c3_type, projection_dict)\n",
    "# returning all of the Apartments that are in a City (all of them)"
   ]
  },
  {
   "cell_type": "markdown",
   "metadata": {
    "hidden": true
   },
   "source": [
    "### Use This Space for \"CHALLENGE: Evaluate Method in Jupyter\" \n",
    "    \n",
    "    Add additional cells as needed.\n",
    "    \n",
    "    Hint: You may want to run `help(c3.MyEntityType)` or use the ERD if you're not sure what the fields on a Type\n",
    "    are called!"
   ]
  },
  {
   "cell_type": "code",
   "execution_count": null,
   "metadata": {
    "ExecuteTime": {
     "end_time": "2022-04-01T12:52:06.230976Z",
     "start_time": "2022-04-01T12:52:05.968074Z"
    },
    "hidden": true
   },
   "outputs": [],
   "source": [
    "help(c3.SmartBulbMeasurement)"
   ]
  },
  {
   "cell_type": "code",
   "execution_count": null,
   "metadata": {
    "ExecuteTime": {
     "end_time": "2022-04-01T12:52:17.465127Z",
     "start_time": "2022-04-01T12:52:06.991964Z"
    },
    "hidden": true
   },
   "outputs": [],
   "source": [
    "projection_dict = {\n",
    "                    \"projection\": \"field1, field2\"\n",
    "                  }\n",
    "c3_type = c3.MyType\n",
    "\n",
    "evaluate_projection(c3_type, projection_dict)"
   ]
  },
  {
   "cell_type": "code",
   "execution_count": null,
   "metadata": {
    "hidden": true
   },
   "outputs": [],
   "source": []
  },
  {
   "cell_type": "code",
   "execution_count": null,
   "metadata": {
    "hidden": true
   },
   "outputs": [],
   "source": []
  },
  {
   "cell_type": "code",
   "execution_count": null,
   "metadata": {
    "hidden": true
   },
   "outputs": [],
   "source": []
  },
  {
   "cell_type": "code",
   "execution_count": null,
   "metadata": {
    "hidden": true
   },
   "outputs": [],
   "source": []
  },
  {
   "cell_type": "markdown",
   "metadata": {
    "heading_collapsed": true
   },
   "source": [
    "## 2. CRUD Operations in Python <a class=\"anchor\" id=\"1.2\">"
   ]
  },
  {
   "cell_type": "markdown",
   "metadata": {
    "hidden": true
   },
   "source": [
    "We have seen how to fetch data records and how to view those results in a pandas DataFrame"
   ]
  },
  {
   "cell_type": "code",
   "execution_count": null,
   "metadata": {
    "ExecuteTime": {
     "end_time": "2022-04-01T13:15:28.000993Z",
     "start_time": "2022-04-01T13:15:27.977956Z"
    },
    "hidden": true
   },
   "outputs": [],
   "source": [
    "# c3.MyEntityType.fetch()\n",
    "pd.DataFrame(c3.MyType.fetch().objs.toJson())"
   ]
  },
  {
   "cell_type": "markdown",
   "metadata": {
    "hidden": true
   },
   "source": [
    "As a Data Scientist, it's unlikely you'll be creating or editing individual records by hand often; however, it's important to understand how the C3 platform manipulates records and data for when these operations are integrated into platform or custom methods later."
   ]
  },
  {
   "cell_type": "markdown",
   "metadata": {
    "hidden": true
   },
   "source": [
    "##### Create Method"
   ]
  },
  {
   "cell_type": "markdown",
   "metadata": {
    "hidden": true
   },
   "source": [
    "An entity (Persistable) type only requires a unique id when creating a new record. We can create new records in this type using the `.create()` method and passing it an UpsertSpec. If no unique id is specified, one is created."
   ]
  },
  {
   "cell_type": "code",
   "execution_count": null,
   "metadata": {
    "ExecuteTime": {
     "end_time": "2022-04-01T13:14:23.831710Z",
     "start_time": "2022-04-01T13:14:23.793017Z"
    },
    "hidden": true,
    "scrolled": true
   },
   "outputs": [],
   "source": [
    "c3.MyType.create(this={\n",
    "                         'id':'UniqueId1',\n",
    "                         'name': 'Name1'\n",
    "                      })\n"
   ]
  },
  {
   "cell_type": "markdown",
   "metadata": {
    "hidden": true
   },
   "source": [
    "We can now view the record that we just created using the `.get()` method and passing it the record id."
   ]
  },
  {
   "cell_type": "code",
   "execution_count": null,
   "metadata": {
    "ExecuteTime": {
     "end_time": "2022-04-01T13:14:43.138230Z",
     "start_time": "2022-04-01T13:14:43.118588Z"
    },
    "hidden": true
   },
   "outputs": [],
   "source": [
    "MyEntityInstance = c3.MyType.get('UniqueId1')"
   ]
  },
  {
   "cell_type": "code",
   "execution_count": null,
   "metadata": {
    "ExecuteTime": {
     "end_time": "2022-04-01T13:14:43.523958Z",
     "start_time": "2022-04-01T13:14:43.520063Z"
    },
    "hidden": true,
    "scrolled": true
   },
   "outputs": [],
   "source": [
    "MyEntityInstance.id"
   ]
  },
  {
   "cell_type": "markdown",
   "metadata": {
    "heading_collapsed": true,
    "hidden": true
   },
   "source": [
    "##### What's the difference between `get()` and `fetch()`?"
   ]
  },
  {
   "cell_type": "markdown",
   "metadata": {
    "hidden": true
   },
   "source": [
    "`fetch()` returns a set of records from a datatable and does not require any parameters (although you *can* include a fetch spec). `get()` requires an id as a parameter and will then return the data for only that specified record/the specific instance."
   ]
  },
  {
   "cell_type": "markdown",
   "metadata": {
    "hidden": true
   },
   "source": [
    "##### Merge Method"
   ]
  },
  {
   "cell_type": "markdown",
   "metadata": {
    "hidden": true
   },
   "source": [
    "If we want to make changes to an existing record and to only update certain fields on a created record, we can use the `merge()` method"
   ]
  },
  {
   "cell_type": "code",
   "execution_count": null,
   "metadata": {
    "ExecuteTime": {
     "end_time": "2022-04-01T13:15:13.918062Z",
     "start_time": "2022-04-01T13:15:13.915569Z"
    },
    "hidden": true
   },
   "outputs": [],
   "source": [
    "MyEntityInstance.latitude = 32.7\n",
    "MyEntityInstance.longitude = None"
   ]
  },
  {
   "cell_type": "code",
   "execution_count": null,
   "metadata": {
    "ExecuteTime": {
     "end_time": "2022-04-01T13:15:16.354990Z",
     "start_time": "2022-04-01T13:15:16.325192Z"
    },
    "hidden": true,
    "scrolled": true
   },
   "outputs": [],
   "source": [
    "MyEntityInstance.merge()"
   ]
  },
  {
   "cell_type": "markdown",
   "metadata": {
    "hidden": true
   },
   "source": [
    "Note that you do not have to use the `get()` method to make updates to records, but rather you can pass in a MergeSpec and simply merge new fields directly:"
   ]
  },
  {
   "cell_type": "code",
   "execution_count": null,
   "metadata": {
    "ExecuteTime": {
     "end_time": "2022-04-01T13:16:14.553691Z",
     "start_time": "2022-04-01T13:16:14.521791Z"
    },
    "hidden": true
   },
   "outputs": [],
   "source": [
    "c3.MyType.merge(this={\n",
    "                             'id': 'UniqueId1',\n",
    "                             'name': 'Name1',\n",
    "                             'latitude': 32.7,\n",
    "                             'longitude': -101.1\n",
    "                   })"
   ]
  },
  {
   "cell_type": "code",
   "execution_count": null,
   "metadata": {
    "ExecuteTime": {
     "end_time": "2022-04-01T13:17:37.757856Z",
     "start_time": "2022-04-01T13:17:37.696334Z"
    },
    "hidden": true
   },
   "outputs": [],
   "source": [
    "pd.DataFrame(c3.MyType.fetch().objs.toJson())"
   ]
  },
  {
   "cell_type": "markdown",
   "metadata": {
    "heading_collapsed": true,
    "hidden": true
   },
   "source": [
    "##### Upsert and Update Methods"
   ]
  },
  {
   "cell_type": "markdown",
   "metadata": {
    "hidden": true
   },
   "source": [
    "There are 2 additional methods available to create or edit existing records: `upsert()` and `update()`. Their syntax is the same as that for `create()` and `merge()`. How they work:\n",
    "\n",
    "* `upsert()` will update the record if it exists or create it if it doesn't. If you do not specify the id, `upsert()` will create a new record with a new id.\n",
    "* `update()` requires the record to already exist and requires an id to be passed in or it will throw an error.\n",
    "\n",
    "Both methods require you to specify values for all required fields in the upsert/update spec or they will throw an error.\n",
    "\n",
    "**BEWARE:** if you do not specify **all** existing fields in the specs for these two methods, they will overwrite any missing/unspecified (non-required) fields with null!!!\n",
    "\n",
    "For that reason, we suggest you use `create()` to create new records and `merge()` to update existing records unless you wish to run the risk of overwriting fields with null."
   ]
  },
  {
   "cell_type": "markdown",
   "metadata": {
    "hidden": true
   },
   "source": [
    "##### Remove Method"
   ]
  },
  {
   "cell_type": "markdown",
   "metadata": {
    "hidden": true
   },
   "source": [
    "Now if we want to delete the record that we've just created, we can use the `remove()` method."
   ]
  },
  {
   "cell_type": "code",
   "execution_count": null,
   "metadata": {
    "ExecuteTime": {
     "end_time": "2022-04-01T13:17:27.769414Z",
     "start_time": "2022-04-01T13:17:27.747503Z"
    },
    "hidden": true
   },
   "outputs": [],
   "source": [
    "MyEntityTypeInstanceToDelete = c3.MyType.get('UniqueId')"
   ]
  },
  {
   "cell_type": "code",
   "execution_count": null,
   "metadata": {
    "ExecuteTime": {
     "end_time": "2022-04-01T13:17:28.847371Z",
     "start_time": "2022-04-01T13:17:28.822091Z"
    },
    "hidden": true
   },
   "outputs": [],
   "source": [
    "MyEntityTypeInstanceToDelete.remove()"
   ]
  },
  {
   "cell_type": "markdown",
   "metadata": {
    "hidden": true
   },
   "source": [
    "##### Batching Methods"
   ]
  },
  {
   "cell_type": "markdown",
   "metadata": {
    "hidden": true
   },
   "source": [
    "All the **CRUD** operations we demonstrated above can also be performed on a batch of data. To do so, simply leave out the `this` argument and pass in a list of UpsertSpecs/MergeSpecs."
   ]
  },
  {
   "cell_type": "code",
   "execution_count": null,
   "metadata": {
    "ExecuteTime": {
     "end_time": "2022-04-01T13:20:40.791902Z",
     "start_time": "2022-04-01T13:20:40.755059Z"
    },
    "hidden": true,
    "scrolled": true
   },
   "outputs": [],
   "source": [
    "c3.MyType.createBatch([\n",
    "                {\"id\": \"UniqueId1\",\n",
    "                 \"name\": \"Name1\"},\n",
    "                {\"id\": \"UniqueId2\",\n",
    "                 \"name\": \"Name2\"},\n",
    "                {\"id\": \"UniqueId3\",\n",
    "                 \"name\": \"Name3\"}\n",
    "    ])"
   ]
  },
  {
   "cell_type": "code",
   "execution_count": null,
   "metadata": {
    "ExecuteTime": {
     "end_time": "2022-04-01T13:20:47.185422Z",
     "start_time": "2022-04-01T13:20:47.157023Z"
    },
    "hidden": true
   },
   "outputs": [],
   "source": [
    "# view your updated data here\n",
    "pd.DataFrame(c3.MyType.fetch().objs.toJson())"
   ]
  },
  {
   "cell_type": "code",
   "execution_count": null,
   "metadata": {
    "ExecuteTime": {
     "end_time": "2022-04-01T13:21:46.248493Z",
     "start_time": "2022-04-01T13:21:46.214582Z"
    },
    "hidden": true
   },
   "outputs": [],
   "source": [
    "c3.MyType.removeBatch([\n",
    "                {\"id\": \"UniqueId1\",\n",
    "                 \"name\": \"Name1\"},\n",
    "                {\"id\": \"UniqueId2\",\n",
    "                 \"name\": \"Name2\"},\n",
    "                {\"id\": \"UniqueId3\",\n",
    "                 \"name\": \"Name3\"}\n",
    "    ])"
   ]
  },
  {
   "cell_type": "code",
   "execution_count": null,
   "metadata": {
    "ExecuteTime": {
     "end_time": "2022-04-01T13:21:55.598151Z",
     "start_time": "2022-04-01T13:21:55.570460Z"
    },
    "hidden": true
   },
   "outputs": [],
   "source": [
    "# view your updated data here\n",
    "pd.DataFrame(c3.MyType.fetch().objs.toJson())"
   ]
  },
  {
   "cell_type": "markdown",
   "metadata": {
    "hidden": true
   },
   "source": [
    "### Use This Space for \"CHALLENGE: CRUD Operations\" \n",
    "    \n",
    "    Add additional cells as needed."
   ]
  },
  {
   "cell_type": "code",
   "execution_count": null,
   "metadata": {
    "hidden": true
   },
   "outputs": [],
   "source": []
  },
  {
   "cell_type": "code",
   "execution_count": null,
   "metadata": {
    "hidden": true
   },
   "outputs": [],
   "source": []
  },
  {
   "cell_type": "code",
   "execution_count": null,
   "metadata": {
    "hidden": true
   },
   "outputs": [],
   "source": []
  },
  {
   "cell_type": "code",
   "execution_count": null,
   "metadata": {
    "hidden": true
   },
   "outputs": [],
   "source": []
  },
  {
   "cell_type": "code",
   "execution_count": null,
   "metadata": {
    "hidden": true
   },
   "outputs": [],
   "source": []
  },
  {
   "cell_type": "markdown",
   "metadata": {
    "heading_collapsed": true
   },
   "source": [
    "## 3. Prototype Methods in Python <a class=\"anchor\" id=\"1.3\">"
   ]
  },
  {
   "cell_type": "markdown",
   "metadata": {
    "hidden": true
   },
   "source": [
    "### A. Write Code <a class=\"anchor\" id=\"1.3A\">"
   ]
  },
  {
   "cell_type": "markdown",
   "metadata": {
    "hidden": true
   },
   "source": [
    "Provsion running code in package.\n",
    "\n",
    "Declare Python methods in types with this syntax:\n",
    "\n",
    "``` py\n",
    "// Method takes myInput (a string) and returns a double\n",
    "@py(env='myActionRuntime')\n",
    "myPythonMethod: function(myInput: string): double\n",
    "```"
   ]
  },
  {
   "cell_type": "markdown",
   "metadata": {
    "hidden": true
   },
   "source": [
    "The .py file needs its own package imports."
   ]
  },
  {
   "cell_type": "markdown",
   "metadata": {
    "hidden": true
   },
   "source": [
    "### Use This Space for \"CHALLENGE: Build Methods\"\n",
    "   "
   ]
  },
  {
   "cell_type": "code",
   "execution_count": null,
   "metadata": {
    "ExecuteTime": {
     "end_time": "2021-10-25T21:31:54.847685Z",
     "start_time": "2021-10-25T21:31:54.840004Z"
    },
    "hidden": true
   },
   "outputs": [],
   "source": [
    "import pandas as pd\n",
    "import datetime as dt\n",
    "\n",
    "def convert_dates_to_common_format(input_date):\n",
    "        \n",
    "        # if the date is a datetime, we need to strip timezone information\n",
    "        if isinstance(input_date, dt.datetime):\n",
    "            date = input_date.replace(tzinfo=None)\n",
    "        # if the date is a string, we need to convert it to a datetime\n",
    "        elif isinstance(input_date, str):\n",
    "            date = dt.datetime.strptime(input_date, \"%Y-%m-%dT%H:%M:%S\")\n",
    "        \n",
    "        return date\n",
    "\n",
    "def abs_day_diff(input_date_1, input_date_2):\n",
    "    # Convert dates and subtract using the convert_dates_to_common_format funtion\n",
    "    date_1 = convert_dates_to_common_format(input_date_1)\n",
    "    date_2 = convert_dates_to_common_format(input_date_2)\n",
    "    \n",
    "    return abs((date_1 - date_2).days) / 365.\n",
    "\n",
    "def lifeSpanInYears(bulbId):\n",
    "    # Get startDate from SmartBulbMeasurement\n",
    "    bulb = c3.SmartBulb.get(this={'id': bulbId})\n",
    "    startDate = bulb.startDate\n",
    "    \n",
    "    # Get data from SmartBulbMeasurement\n",
    "    limitSpec = -1\n",
    "    defectFilter = \"status == 1 && lumens == 0 && parent.id == '\" + 'SBMS_serialNo_' + bulb.id + \"'\"\n",
    "    smartbulbmeasurement_objs = c3.SmartBulbMeasurement.fetch(spec={'limit':limitSpec,\n",
    "                                                                    'filter':defectFilter}).objs\n",
    "    smartbulbmeasurement_pd = pd.DataFrame(smartbulbmeasurement_objs.toJson())\n",
    "    \n",
    "    # get endDate from filtered measurements\n",
    "    smartbulbmeasurement_pd.sort_values(by='start',ascending=False)\n",
    "    endDate = str(smartbulbmeasurement_pd[['start']].iloc[0].values[0])\n",
    "    \n",
    "    # return endDate - startDate from using abs_day_diff function\n",
    "    return abs_day_diff(startDate, endDate)"
   ]
  },
  {
   "cell_type": "code",
   "execution_count": null,
   "metadata": {
    "ExecuteTime": {
     "end_time": "2021-10-25T21:31:56.712434Z",
     "start_time": "2021-10-25T21:31:55.816891Z"
    },
    "hidden": true
   },
   "outputs": [],
   "source": [
    "lifeSpanInYears('SMBLB1')"
   ]
  },
  {
   "cell_type": "code",
   "execution_count": null,
   "metadata": {
    "ExecuteTime": {
     "end_time": "2021-10-25T21:41:30.938618Z",
     "start_time": "2021-10-25T21:40:23.679532Z"
    },
    "hidden": true
   },
   "outputs": [],
   "source": [
    "c3.SmartBulb.lifeSpanInYears('SMBLB1')"
   ]
  },
  {
   "cell_type": "code",
   "execution_count": null,
   "metadata": {
    "hidden": true
   },
   "outputs": [],
   "source": []
  },
  {
   "cell_type": "markdown",
   "metadata": {
    "hidden": true
   },
   "source": [
    "For your challenge you will build one to two additional static methods:\n",
    "-   `shortestLifeSpan: function(): string`  (**CHALLENGE**)\n",
    "\n",
    "    Returns the string sentence: f\"Bulb {bulbId} has the shortest lifespan = {lifespan} years\"\n",
    "\n",
    "    \n",
    "-   `longestAndShortestLifespans: function(): string`  (**ADVANCED CHALLENGE**)\n",
    "\n",
    "    Returns the string sentence: f'Longest Lifespan: {longest_lifespan_bulb_id} - {longest_lifespan_bulb}, Shortest Lifespan: {shortest_lifespan_bulb_id} - {shortest_lifespan_bulb}'\n",
    "\n"
   ]
  },
  {
   "cell_type": "markdown",
   "metadata": {
    "hidden": true
   },
   "source": [
    "### Use This Space for \"CHALLENGE: Build Methods\" \n",
    "    \n",
    "    Add additional cells as needed."
   ]
  },
  {
   "cell_type": "code",
   "execution_count": null,
   "metadata": {
    "hidden": true
   },
   "outputs": [],
   "source": []
  },
  {
   "cell_type": "code",
   "execution_count": null,
   "metadata": {
    "hidden": true
   },
   "outputs": [],
   "source": []
  },
  {
   "cell_type": "code",
   "execution_count": null,
   "metadata": {
    "hidden": true
   },
   "outputs": [],
   "source": []
  },
  {
   "cell_type": "markdown",
   "metadata": {
    "hidden": true
   },
   "source": [
    "### Test Code <a class=\"anchor\" id=\"1.3B\">"
   ]
  },
  {
   "cell_type": "markdown",
   "metadata": {
    "hidden": true
   },
   "source": [
    "After provisioning, test code from the static console or Jypyter\n",
    "\n",
    "Use `c3.MyType.myPythonMethod(myInput)` to get the output of the function as it's been provisioned onto your tag."
   ]
  },
  {
   "cell_type": "markdown",
   "metadata": {
    "hidden": true
   },
   "source": [
    "### Use This Cell to Test that Your Code Has Provisioned And Is Available on the Platform\n",
    "   "
   ]
  },
  {
   "cell_type": "code",
   "execution_count": null,
   "metadata": {
    "ExecuteTime": {
     "end_time": "2021-06-04T17:46:45.255428Z",
     "start_time": "2021-06-04T17:45:40.106832Z"
    },
    "hidden": true
   },
   "outputs": [],
   "source": []
  },
  {
   "cell_type": "code",
   "execution_count": null,
   "metadata": {
    "hidden": true
   },
   "outputs": [],
   "source": []
  },
  {
   "cell_type": "markdown",
   "metadata": {
    "heading_collapsed": true
   },
   "source": [
    "## 4. AsyncActions <a class=\"anchor\" id=\"1.4\">"
   ]
  },
  {
   "cell_type": "markdown",
   "metadata": {
    "hidden": true
   },
   "source": [
    "The methods we just evaluated on the c3-server were executed in a synchronous fashion on a `C3 Master` server. We can just as easily call methods on types asynchronously and execute these methods on `C3 Worker` nodes."
   ]
  },
  {
   "cell_type": "code",
   "execution_count": null,
   "metadata": {
    "ExecuteTime": {
     "end_time": "2021-10-25T21:46:19.867281Z",
     "start_time": "2021-10-25T21:46:18.723954Z"
    },
    "hidden": true
   },
   "outputs": [],
   "source": [
    "spec = c3.AsyncActionSpec(typeName='SmartBulb', \n",
    "                          action='lifeSpanInYears', \n",
    "                          args={'bulbId': 'SMBLB1'})\n",
    "\n",
    "action = c3.AsyncAction.submit(spec)"
   ]
  },
  {
   "cell_type": "code",
   "execution_count": null,
   "metadata": {
    "ExecuteTime": {
     "end_time": "2021-10-25T21:46:42.490378Z",
     "start_time": "2021-10-25T21:46:42.470795Z"
    },
    "hidden": true
   },
   "outputs": [],
   "source": [
    "action.hasCompleted()"
   ]
  },
  {
   "cell_type": "code",
   "execution_count": null,
   "metadata": {
    "ExecuteTime": {
     "end_time": "2021-10-25T21:46:45.841127Z",
     "start_time": "2021-10-25T21:46:45.820162Z"
    },
    "hidden": true
   },
   "outputs": [],
   "source": [
    "action.get().result"
   ]
  },
  {
   "cell_type": "code",
   "execution_count": null,
   "metadata": {
    "ExecuteTime": {
     "end_time": "2021-10-25T21:46:54.310101Z",
     "start_time": "2021-10-25T21:46:54.292335Z"
    },
    "hidden": true,
    "scrolled": false
   },
   "outputs": [],
   "source": [
    "action.formatError()"
   ]
  },
  {
   "cell_type": "markdown",
   "metadata": {
    "hidden": true
   },
   "source": [
    "Take a moment to piece together the data flow for the `AsyncAction` we just submitted. Questions to ask yourself:\n",
    "- which node did this computation execute on?\n",
    "- which c3 components were involved in making this computation possible?\n",
    "- what kinds of computation should we distribute to `C3 Worker` nodes? Examples?"
   ]
  },
  {
   "cell_type": "markdown",
   "metadata": {
    "hidden": true
   },
   "source": [
    "##### What happens if the action fails?"
   ]
  },
  {
   "cell_type": "markdown",
   "metadata": {
    "hidden": true
   },
   "source": [
    "Note that the method lifeSpanInYears was defined for the SmartBulb Type. What happens if we try to run it on the Building Type?"
   ]
  },
  {
   "cell_type": "code",
   "execution_count": null,
   "metadata": {
    "hidden": true
   },
   "outputs": [],
   "source": [
    "spec = c3.AsyncActionSpec(typeName='Building', \n",
    "                          action='lifeSpanInYears', \n",
    "                          args={'bulbId': 'SMBLB1'})\n",
    "\n",
    "action = c3.AsyncAction.submit(spec)"
   ]
  },
  {
   "cell_type": "code",
   "execution_count": null,
   "metadata": {
    "hidden": true
   },
   "outputs": [],
   "source": [
    "action.hasCompleted()"
   ]
  },
  {
   "cell_type": "code",
   "execution_count": null,
   "metadata": {
    "ExecuteTime": {
     "end_time": "2021-10-25T21:46:54.310101Z",
     "start_time": "2021-10-25T21:46:54.292335Z"
    },
    "hidden": true,
    "scrolled": true
   },
   "outputs": [],
   "source": [
    "action.formatError()"
   ]
  },
  {
   "cell_type": "markdown",
   "metadata": {
    "hidden": true
   },
   "source": [
    "### Use This Space for \"CHALLENGE: Execute AsyncActions\"\n",
    "   "
   ]
  },
  {
   "cell_type": "code",
   "execution_count": null,
   "metadata": {
    "hidden": true
   },
   "outputs": [],
   "source": []
  },
  {
   "cell_type": "code",
   "execution_count": null,
   "metadata": {
    "hidden": true
   },
   "outputs": [],
   "source": []
  },
  {
   "cell_type": "code",
   "execution_count": null,
   "metadata": {
    "hidden": true
   },
   "outputs": [],
   "source": []
  },
  {
   "cell_type": "code",
   "execution_count": null,
   "metadata": {
    "hidden": true
   },
   "outputs": [],
   "source": []
  },
  {
   "cell_type": "markdown",
   "metadata": {
    "heading_collapsed": true
   },
   "source": [
    "# Make sure to SYNC your notebook to the server, then CLOSE AND HALT this notebook when you leave.\n",
    "To sync: go to the File menu, Save and Checkpoint your notebook, and then select \"Upload Notebook to C3.ai\", or select the notebook in the tree view (check the box) and hit the \"Sync\" button."
   ]
  },
  {
   "cell_type": "code",
   "execution_count": null,
   "metadata": {
    "hidden": true
   },
   "outputs": [],
   "source": []
  }
 ],
 "metadata": {
  "has_local_update": false,
  "is_local": true,
  "is_remote": true,
  "kernelspec": {
   "display_name": "Python 3",
   "language": "python",
   "name": "python3"
  },
  "language_info": {
   "codemirror_mode": {
    "name": "ipython",
    "version": 3
   },
   "file_extension": ".py",
   "mimetype": "text/x-python",
   "name": "python",
   "nbconvert_exporter": "python",
   "pygments_lexer": "ipython3",
   "version": "3.8.12"
  },
  "last_sync_time": "2022-04-11T16:52:39.913873"
 },
 "nbformat": 4,
 "nbformat_minor": 2
}
