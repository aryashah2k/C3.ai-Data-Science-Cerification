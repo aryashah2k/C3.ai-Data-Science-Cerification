{
 "cells": [
  {
   "cell_type": "markdown",
   "metadata": {},
   "source": [
    "# Setting Up A Machine Learning Deployment Workflow on the C3 AI Suite\n"
   ]
  },
  {
   "cell_type": "markdown",
   "metadata": {},
   "source": [
    "### For the Data Science Course: As stated in the course materials, you do not need to edit anything in this notebook! You should simply execute this notebook with \"Run All\" from the Cell menu.\n",
    "\n",
    "This notebook is intended to set up an MLProject. In the next notebook, you will attach your already-trained model to that existing project to show you how to use artifacts you have created and update existing projects.\n",
    "\n",
    "If you would like to watch a walkthrough video of this notebook, you can do so [here](https://developer.c3.ai/data-science?qd=1) (scroll down to ML Model Deployment Workflow video).\n"
   ]
  },
  {
   "cell_type": "markdown",
   "metadata": {},
   "source": [
    "**Note**: This workflow will work for any timeseries ML use-case that you may have, however for this example we will consider a simple binary classification problem for our SmartBulb Predictive Maintenance use-case."
   ]
  },
  {
   "cell_type": "markdown",
   "metadata": {},
   "source": [
    " * [Machine Learning Productionizing Workflow](#1)\n",
    "    * [Pre-deployment]\n",
    "        * [1. Define Use Case](#1.1)\n",
    "        * [2. Create a segment of your population](#1.2)\n",
    "        * [3. Define how to retrieve and format data as features, data mask, and labels](#1.3)\n",
    "        * [Using an untrained ML Pipeline]\n",
    "            * [4. Define the steps in your machine learning pipeline flow](#1.4)\n",
    "            * [5. Configure the pipeline with the data specifications and tie it to the project](#1.5)\n",
    "            * [6. Train the model on the combined data from the subjects in the defined segment](#1.6)\n",
    "            * [7. Use the trained model to predict on a small subset of data](#1.7)\n",
    "    * [Deployment]\n",
    "        * [8. Configure how model predictions will be persisted](#1.8)\n",
    "        * [9. Deploy the trained model to a group of subjects](#1.9)\n",
    "    * [Post-deployment]\n",
    "        * [10. Evaluate Model and persist predictions and feature contributions on the subjects with the deployed model](#1.10)\n"
   ]
  },
  {
   "cell_type": "code",
   "execution_count": null,
   "metadata": {
    "ExecuteTime": {
     "end_time": "2022-04-11T13:42:08.863433Z",
     "start_time": "2022-04-11T13:42:08.502893Z"
    }
   },
   "outputs": [],
   "source": [
    "import pandas as pd\n",
    "import time\n",
    "import matplotlib.pyplot as plt\n",
    "import time\n",
    "from datetime import timedelta\n",
    "\n",
    "\n",
    "def monitor_job_status(job, sleepFor=10):\n",
    "    \n",
    "    while (job.status().status not in [\"completed\", \"failed\", \"completed_with_errors\"]):\n",
    "        print(job.status().status)\n",
    "        time.sleep(sleepFor)\n",
    "        \n",
    "    return job.status()"
   ]
  },
  {
   "cell_type": "markdown",
   "metadata": {},
   "source": [
    "### Only use the cell below if the notebook has failed unexpectedly and you cannot troubleshoot the errors."
   ]
  },
  {
   "cell_type": "markdown",
   "metadata": {},
   "source": [
    "**Note**: Use the following code block to clean up the objects created in this MLProject so that you can re-start the process. Only use this if the notebook has failed unexpectedly and you are unable to troubleshoot the error easily. \n",
    "\n",
    "**Warning** - This will remove all model deployment related artifacts you created under a project. Do not execute this unless you want to start over!"
   ]
  },
  {
   "cell_type": "code",
   "execution_count": null,
   "metadata": {
    "ExecuteTime": {
     "end_time": "2022-04-11T13:46:26.510837Z",
     "start_time": "2022-04-11T13:46:26.502762Z"
    }
   },
   "outputs": [],
   "source": [
    "# project.cleanUp(c3.MLCleanSpec(\n",
    "#     mlModels=True,\n",
    "#     mlPipelines=True,\n",
    "#     mlPopulationSegments=True,\n",
    "#     mlPredictionConfigurations=True,\n",
    "#     mlPredictionModelConfigurations=True,\n",
    "#     mlProjectSubjects=True,\n",
    "#     predictionDataSourceSpecs=True,\n",
    "#     trainingDataSourceSpecs=True,\n",
    "#     predictions=True,\n",
    "#     contributions=True,\n",
    "#     scores=True\n",
    "# ))\n",
    "# project.remove()\n"
   ]
  },
  {
   "cell_type": "markdown",
   "metadata": {
    "heading_collapsed": true
   },
   "source": [
    "### Step 1: Define Use Case <a class=\"anchor\" id=\"1.1\">\n",
    "\n",
    "\n",
    "\n",
    "| Types  | Function  |\n",
    "|:---:|:---:|\n",
    "| `MLProject`  |  Represents the ML use case you are trying to solve with your model. Eg: Predictive Maintenance, Churn Prediction, Demand Forecasting |\n",
    "| `MLSubject`  |  Represents the object that you want to make predictions on. This subject should have data implicitly *attached* to it that you will use to make ML features. In your data model, there should be some C3 type representing this object. |\n",
    "| `MLProjectSubject` | Represents the object (`MLSubject`) but only in the context of your particular ML use case  |\n",
    "|   |   |\n",
    "\n",
    "\n",
    "If you were setting this up yourself, you would configure two c3typ files, one for the `MLSubject` and one for the `MLProjectSubject`. See [Create a Type to model the ML Subject](https://developer.c3.ai/docs/7.24.0/guide/guide-ml-ds/modelDeployment#section:1.1) for information on how to configure these two files.\n",
    "\n",
    "For this course, the course package has been configured for you.\n",
    "\n"
   ]
  },
  {
   "cell_type": "code",
   "execution_count": null,
   "metadata": {
    "ExecuteTime": {
     "end_time": "2022-04-11T13:42:08.867175Z",
     "start_time": "2022-04-11T13:42:08.865062Z"
    },
    "hidden": true
   },
   "outputs": [],
   "source": [
    "project_name = \"SmartBulbPredictiveMaintenance\"\n",
    "subject_type_name = \"SmartBulb\"\n",
    "project_subject_type_name = \"SmartBulbProjectSubject\""
   ]
  },
  {
   "cell_type": "code",
   "execution_count": null,
   "metadata": {
    "ExecuteTime": {
     "end_time": "2022-04-11T13:42:09.160792Z",
     "start_time": "2022-04-11T13:42:08.868326Z"
    },
    "hidden": true
   },
   "outputs": [],
   "source": [
    "project = c3.MLProject(\n",
    "    id=project_name,\n",
    "    name=project_name,\n",
    "    sourceType=subject_type_name,\n",
    "    projectSubjectType=project_subject_type_name\n",
    ").upsert()\n",
    "# Trigger a job populating the TadProjectSubject type that will execute asynchronously\n",
    "subject_creation_job = project.createProjectSubjects()\n"
   ]
  },
  {
   "cell_type": "markdown",
   "metadata": {
    "hidden": true
   },
   "source": [
    "Wait for creation of `MLProjectSubject` entities to complete."
   ]
  },
  {
   "cell_type": "code",
   "execution_count": null,
   "metadata": {
    "ExecuteTime": {
     "end_time": "2022-04-11T13:42:19.294126Z",
     "start_time": "2022-04-11T13:42:09.162558Z"
    },
    "hidden": true,
    "scrolled": true
   },
   "outputs": [],
   "source": [
    "# subject_creation_job.status()\n",
    "\n",
    "monitor_job_status(subject_creation_job)"
   ]
  },
  {
   "cell_type": "markdown",
   "metadata": {
    "heading_collapsed": true
   },
   "source": [
    "### Step 2: Create a segment of your population: <a class=\"anchor\" id=\"1.2\">\n",
    "Key C3 Types:\n",
    "- `MLPopulationSegment` represents a logical grouping of the subjects (`MLSubject`) defined by a C3 fetch filter (`MLPopulationSegment#subjectFilter`). See [here](https://developer.c3.ai/docs/7.24.0/guide/guide-ml-ds/modelDeployment#section:1.2) for more information.\n"
   ]
  },
  {
   "cell_type": "markdown",
   "metadata": {
    "hidden": true
   },
   "source": [
    "We create train, validation and test population segments:"
   ]
  },
  {
   "cell_type": "code",
   "execution_count": null,
   "metadata": {
    "ExecuteTime": {
     "end_time": "2022-04-11T13:42:19.340077Z",
     "start_time": "2022-04-11T13:42:19.295603Z"
    },
    "hidden": true
   },
   "outputs": [],
   "source": [
    "training_segment = c3.MLPopulationSegment(\n",
    "    subjectFilter=\"!(contains(id, 'SMBLB1') || contains(id, 'SMBLB2'))\", # Which subjects to include in the group\n",
    "    mlProject=project,\n",
    "    name=\"TrainingBulbs\",\n",
    ").upsert()\n"
   ]
  },
  {
   "cell_type": "code",
   "execution_count": null,
   "metadata": {
    "ExecuteTime": {
     "end_time": "2022-04-11T13:42:19.378992Z",
     "start_time": "2022-04-11T13:42:19.341525Z"
    },
    "hidden": true
   },
   "outputs": [],
   "source": [
    "validation_segment = c3.MLPopulationSegment(\n",
    "    subjectFilter=\"contains(id, 'SMBLB1')\", # Which subjects to include in the group\n",
    "    mlProject=project,\n",
    "    name=\"ValidationBulbs\",\n",
    ").upsert()\n"
   ]
  },
  {
   "cell_type": "code",
   "execution_count": null,
   "metadata": {
    "ExecuteTime": {
     "end_time": "2022-04-11T13:42:19.431260Z",
     "start_time": "2022-04-11T13:42:19.381499Z"
    },
    "hidden": true
   },
   "outputs": [],
   "source": [
    "test_segment = c3.MLPopulationSegment(\n",
    "    subjectFilter=\"contains(id, 'SMBLB2')\", # Which subjects to include in the group\n",
    "    mlProject=project,\n",
    "    name=\"TestingBulbs\",\n",
    ").upsert()\n"
   ]
  },
  {
   "cell_type": "code",
   "execution_count": null,
   "metadata": {
    "ExecuteTime": {
     "end_time": "2022-04-11T13:42:19.437868Z",
     "start_time": "2022-04-11T13:42:19.433236Z"
    },
    "hidden": true
   },
   "outputs": [],
   "source": [
    "test_segment"
   ]
  },
  {
   "cell_type": "markdown",
   "metadata": {
    "hidden": true
   },
   "source": [
    "Assign `MLProjectSubjects` in the `MLProject` to the `MLPopulationSegments` you just created."
   ]
  },
  {
   "cell_type": "code",
   "execution_count": null,
   "metadata": {
    "ExecuteTime": {
     "end_time": "2022-04-11T13:42:19.705982Z",
     "start_time": "2022-04-11T13:42:19.439290Z"
    },
    "hidden": true
   },
   "outputs": [],
   "source": [
    "assignment_action = project.assignSegments()\n"
   ]
  },
  {
   "cell_type": "markdown",
   "metadata": {
    "heading_collapsed": true
   },
   "source": [
    "### Step 3: Define how to retrieve and format data as features, data mask, and labels. <a class=\"anchor\" id=\"1.3\">\n",
    "Key C3 Types:\n",
    "- `MLDataSourceSpec` defines where the data lies and how to extract the features for each subject to create the dataset for model training or prediction. For time series data, `EvalMetricsDatasetMLDataSourceSpec` comes out-of-the-box, but if you're using a different kind of data, you can create your own `MLDataSourceSpec` by following this [tutorial](https://developer.c3.ai/docs/7.24.0/topic/custom-mldatasourcespec)."
   ]
  },
  {
   "cell_type": "code",
   "execution_count": null,
   "metadata": {
    "ExecuteTime": {
     "end_time": "2022-04-11T13:42:19.743670Z",
     "start_time": "2022-04-11T13:42:19.707282Z"
    },
    "hidden": true
   },
   "outputs": [],
   "source": [
    "# List of C3 metric (SimpleMetric or Compound) names\n",
    "features = [\n",
    "                \"AverageTemperature\",\n",
    "                \"AveragePower\",\n",
    "]\n",
    "\n",
    "# We will use this to discard data AFTER a bulb has failed\n",
    "mask = 'HasEverFailed'\n",
    "label = 'WillFailNextMonth'\n",
    "train_start_date = \"2016-01-01\" # datetime string for start of training period\n",
    "train_end_date = \"2021-01-01\" # datetime string for end of training period\n",
    "time_series_interval = \"DAY\" # string specifying interval of data (See Interval type for more info)\n",
    "\n",
    "source_spec = c3.EvalMetricsDatasetMLDataSourceSpec(\n",
    "    name=\"training_smartbulb\",\n",
    "    srcType=subject_type_name,\n",
    "    features=features,\n",
    "    maskMetric=mask,\n",
    "    target=label,\n",
    "    start=train_start_date,\n",
    "    end=train_end_date,\n",
    "    interval=time_series_interval\n",
    ").upsert()\n"
   ]
  },
  {
   "cell_type": "markdown",
   "metadata": {},
   "source": [
    "## Note regarding Steps 4 to 7"
   ]
  },
  {
   "cell_type": "markdown",
   "metadata": {},
   "source": [
    "**Steps 4 to 7 are required if you wish to train a new machine learning pipeline and then deploy it. If you are continuing work from a tuned ML pipeline from the MLExperimentation workflow, then continue onto Step 8**"
   ]
  },
  {
   "cell_type": "markdown",
   "metadata": {
    "heading_collapsed": true
   },
   "source": [
    "### Step 4: Define the machine learning pipeline. <a class=\"anchor\" id=\"1.4\">\n",
    "Key Types:\n",
    "- `MLPipeline` defines steps of machine learning algorithms/models in the workflow. See [Working with ML Pipeline](https://developer.c3.ai/docs/7.24.0/guide/guide-ml-ds/machine-learning-pipeline) for more details about `MLPipeline` and [Custom Machine Learning Pipelines](https://developer.c3.ai/docs/7.24.0/guide/guide-ml-ds/custom-machine-learning-pipelines) for how to configure a pipeline that is not available out-of-the-box.\n"
   ]
  },
  {
   "cell_type": "markdown",
   "metadata": {
    "hidden": true
   },
   "source": [
    "We can make deeply nested machine learning pipelines as shown above, but in this example we will use a simple RandomForestClassifier from sklearn"
   ]
  },
  {
   "cell_type": "code",
   "execution_count": null,
   "metadata": {
    "ExecuteTime": {
     "end_time": "2022-04-11T13:43:19.551275Z",
     "start_time": "2022-04-11T13:42:19.745193Z"
    },
    "hidden": true
   },
   "outputs": [],
   "source": [
    "interpret_technique = c3.TreeInterpreterInterpretTechnique() # Specify MLInterpretTechnique here or None\n",
    "scoring_metrics = [c3.MLAccuracyMetric(), c3.MLPrecisionMetric(), c3.MLRecallMetric(), c3.MLF1ScoreMetric()]\n",
    "\n",
    "untrained_pipeline = c3.MLSerialPipeline(\n",
    "    steps=[\n",
    "        c3.MLStep(pipe=c3.SklearnPipe( # Specify MLLeafPipe here\n",
    "            technique=c3.SklearnTechnique( # Add associated MLTechnique with hyperparameters here\n",
    "                        name=\"ensemble.RandomForestClassifier\",\n",
    "                        processingFunctionName=\"predict\"),\n",
    "            \n",
    "            interpretTechnique=interpret_technique),\n",
    "            \n",
    "        name=\"rfPipeline\"\n",
    "        )\n",
    "    ],\n",
    "    scoringMetrics=c3.MLScoringMetric.toScoringMetricMap(scoring_metrics)\n",
    ").upsert()\n"
   ]
  },
  {
   "cell_type": "markdown",
   "metadata": {
    "heading_collapsed": true
   },
   "source": [
    "### Step 5: Configure the pipeline with the data specifications and tie it to the project. <a class=\"anchor\" id=\"1.5\">\n",
    "Key Types:\n",
    "- `MLModel` combines the machine learning pipeline with the training data specifications and the inference data specifications into one entity. See [here](https://developer.c3.ai/docs/7.24.0/guide/guide-ml-ds/modelDeployment#section:1.3) for more information."
   ]
  },
  {
   "cell_type": "code",
   "execution_count": null,
   "metadata": {
    "ExecuteTime": {
     "end_time": "2022-04-11T13:43:19.892359Z",
     "start_time": "2022-04-11T13:43:19.552990Z"
    },
    "hidden": true
   },
   "outputs": [],
   "source": [
    "ml_model = c3.MLModel.createFromPipeline(\n",
    "    pipeline=untrained_pipeline.get(), \n",
    "    trainingDataSourceSpec=source_spec.get(),\n",
    "    spec=c3.MLModelCreateSpec(\n",
    "        predictionDataSourceSpec=source_spec.get(),\n",
    "        mlProject=project\n",
    "    )\n",
    ").upsert(spec=c3.UpsertSpec(returnInclude=\"this\"))\n"
   ]
  },
  {
   "cell_type": "markdown",
   "metadata": {
    "heading_collapsed": true
   },
   "source": [
    "### Step 6: Train the model on the combined data from the subjects in the defined segment. <a class=\"anchor\" id=\"1.6\">\n",
    "- `MLPopulationSegmentTrainingJob` is a model training job that is kicked off when `MLModel#train` is called. It parallelizes the creation of the dataset and then trains the model. See [here](https://developer.c3.ai/docs/7.24.0/type/MLPopulationSegmentTrainingJob) for more information."
   ]
  },
  {
   "cell_type": "code",
   "execution_count": null,
   "metadata": {
    "ExecuteTime": {
     "end_time": "2022-04-11T13:43:20.558120Z",
     "start_time": "2022-04-11T13:43:19.893778Z"
    },
    "hidden": true
   },
   "outputs": [],
   "source": [
    "training_job = ml_model.train(training_segment.get(),\n",
    "                              spec=c3.MLTrainingJobOptions(persistData=True))\n"
   ]
  },
  {
   "cell_type": "markdown",
   "metadata": {
    "hidden": true
   },
   "source": [
    "Wait for model training to finish."
   ]
  },
  {
   "cell_type": "code",
   "execution_count": null,
   "metadata": {
    "ExecuteTime": {
     "end_time": "2022-04-11T13:44:31.141241Z",
     "start_time": "2022-04-11T13:43:20.559694Z"
    },
    "hidden": true
   },
   "outputs": [],
   "source": [
    "# training_job.status()\n",
    "\n",
    "monitor_job_status(training_job)"
   ]
  },
  {
   "cell_type": "markdown",
   "metadata": {
    "hidden": true
   },
   "source": [
    "Retrieve the resulting trained model from the training job."
   ]
  },
  {
   "cell_type": "code",
   "execution_count": null,
   "metadata": {
    "ExecuteTime": {
     "end_time": "2022-04-11T13:44:31.169797Z",
     "start_time": "2022-04-11T13:44:31.142971Z"
    },
    "hidden": true
   },
   "outputs": [],
   "source": [
    "trained_ml_model = c3.MLModel.fetch(\n",
    "    spec=c3.FetchSpec(filter=f\"configuration.id == '{training_job.trainedModelConfiguration.id}'\")\n",
    ").objs[0]"
   ]
  },
  {
   "cell_type": "code",
   "execution_count": null,
   "metadata": {
    "ExecuteTime": {
     "end_time": "2022-04-11T13:44:31.176471Z",
     "start_time": "2022-04-11T13:44:31.171125Z"
    },
    "hidden": true
   },
   "outputs": [],
   "source": [
    "trained_ml_model"
   ]
  },
  {
   "cell_type": "markdown",
   "metadata": {
    "heading_collapsed": true
   },
   "source": [
    "### Step 7: Use the trained model to predict on a small subset of data.  <a class=\"anchor\" id=\"1.7\">\n",
    "Key Types:\n",
    "- `MLPartialDataSourceSpec` exists to allow users to override certain fields of the `MLDataSourceSpec` during inference. In the case of time series data, you might want to override the `start` and `end` dates whenever you make a new prediction because you received new data. See [here](https://developer.c3.ai/docs/7.24.0/topic/custom-mldatasourcespec#section:1.2) for more information."
   ]
  },
  {
   "cell_type": "code",
   "execution_count": null,
   "metadata": {
    "ExecuteTime": {
     "end_time": "2022-04-11T13:44:33.235082Z",
     "start_time": "2022-04-11T13:44:31.178114Z"
    },
    "hidden": true
   },
   "outputs": [],
   "source": [
    "prediction_subjects = getattr(c3, subject_type_name).fetch({ # Get a sample subject to predict on\n",
    "    \"filter\": test_segment.get().subjectFilter,\n",
    "    \"limit\": 1\n",
    "}).objs\n",
    "\n",
    "partial_data_source_spec = c3.EvalMetricsMLPartialDataSourceSpec(start=\"2018-05-01\",\n",
    "                                                                 end=\"2021-01-01\") # MLPartialDataSourceSpec subtype for your dataset\n",
    "\n",
    "sample_predictions = trained_ml_model.predictForSubjects(\n",
    "    partialDataSpec=partial_data_source_spec, \n",
    "    subjects=prediction_subjects\n",
    ")\n",
    "\n",
    "pred_df = c3.Dataset.toPandas(sample_predictions)"
   ]
  },
  {
   "cell_type": "markdown",
   "metadata": {
    "hidden": true
   },
   "source": [
    "Retrieve ground truth labels:"
   ]
  },
  {
   "cell_type": "code",
   "execution_count": null,
   "metadata": {
    "ExecuteTime": {
     "end_time": "2022-04-11T13:44:33.457907Z",
     "start_time": "2022-04-11T13:44:33.236576Z"
    },
    "hidden": true
   },
   "outputs": [],
   "source": [
    "y_true_dataset = source_spec.get().withPartialSpec(partial_data_source_spec)\\\n",
    "                                        .getTargetDataForSources([prediction_subjects[0].id])\n",
    "\n",
    "y_true = c3.Dataset.toPandas(y_true_dataset)                                  "
   ]
  },
  {
   "cell_type": "markdown",
   "metadata": {
    "hidden": true
   },
   "source": [
    "Additional formatting on the prediction and ground truth dataframes:"
   ]
  },
  {
   "cell_type": "code",
   "execution_count": null,
   "metadata": {
    "ExecuteTime": {
     "end_time": "2022-04-11T13:44:33.471682Z",
     "start_time": "2022-04-11T13:44:33.459552Z"
    },
    "hidden": true
   },
   "outputs": [],
   "source": [
    "def format_df(df):\n",
    "    df['source'] = df.index.str.split('_').str[0]\n",
    "    df['timestamp'] = pd.to_datetime(df.index.str.split('_').str[1],format=\"%Y-%m-%dT%H:%M:%S.%f\")\n",
    "    return df\n",
    "\n",
    "pred_df = format_df(pred_df)\n",
    "y_true = format_df(y_true)"
   ]
  },
  {
   "cell_type": "markdown",
   "metadata": {
    "hidden": true
   },
   "source": [
    "View prediction series for the sample subject."
   ]
  },
  {
   "cell_type": "code",
   "execution_count": null,
   "metadata": {
    "ExecuteTime": {
     "end_time": "2022-04-11T13:44:33.662210Z",
     "start_time": "2022-04-11T13:44:33.473226Z"
    },
    "hidden": true
   },
   "outputs": [],
   "source": [
    "fig, ax = plt.subplots(figsize=(16, 6))\n",
    "\n",
    "ax.plot(pred_df['timestamp'], pred_df['prediction'], color='tab:orange', label='predictions')\n",
    "ax.plot(y_true['timestamp'], y_true[label], color='tab:blue', label='ground truth')\n",
    "ax.set_xlabel('Time')\n",
    "ax.set_ylabel('Status')\n",
    "ax.set_title(f'Comparing Predictions to Ground Truth for {prediction_subjects[0].id}')\n",
    "ax.legend(loc='upper left');"
   ]
  },
  {
   "cell_type": "markdown",
   "metadata": {
    "heading_collapsed": true
   },
   "source": [
    "### Step 8: Configure how model predictions will be persisted <a class=\"anchor\" id=\"1.8\">\n",
    "Key C3 Types:\n",
    "- `MLPredictionPersister`\n",
    "- `MLModelTimedPredictionSeries`"
   ]
  },
  {
   "cell_type": "markdown",
   "metadata": {
    "hidden": true
   },
   "source": [
    "We will use the default timeseries prediction persister here"
   ]
  },
  {
   "cell_type": "code",
   "execution_count": null,
   "metadata": {
    "ExecuteTime": {
     "end_time": "2022-04-11T13:44:33.705772Z",
     "start_time": "2022-04-11T13:44:33.663956Z"
    },
    "hidden": true
   },
   "outputs": [],
   "source": [
    "trained_ml_model= trained_ml_model.get() # or c3.MLModel.get('model_id') if using a model trained earlier\n",
    "trained_ml_model.predictionPersisters = None # Specify MLPredictionPersisters or None to use default\n",
    "trained_ml_model.merge(spec=c3.MergeSpec(mergeInclude=\"predictionPersisters\"))\n"
   ]
  },
  {
   "cell_type": "markdown",
   "metadata": {
    "heading_collapsed": true
   },
   "source": [
    "### Step 9: Deploy the trained model to a group of subjects. <a class=\"anchor\" id=\"1.9\">\n",
    "Deploying the model to a group of subjects means that the model is used to make and persist predictions on each subject. This group of subjects (`MLPopulationSegment`) that the model is deployed on is often the same group that the model was trained on, but can be applied to other subjects as well (e.g. subjects that do not have enough data to train on)."
   ]
  },
  {
   "cell_type": "code",
   "execution_count": null,
   "metadata": {
    "ExecuteTime": {
     "end_time": "2022-04-11T13:44:33.891324Z",
     "start_time": "2022-04-11T13:44:33.707706Z"
    },
    "hidden": true
   },
   "outputs": [],
   "source": [
    "test_segment.deployModels(\n",
    "    [training_job.trainedModelConfiguration.get()], \n",
    "    statusLabel=\"LIVE\" # \"LIVE\", \"CHALLENGER\", OR \"CANDIDATE\"\n",
    ")\n",
    "\n",
    "\n",
    "# test_segment.deployModels(\n",
    "#     [trained_ml_model.configuration], \n",
    "#     statusLabel=\"CHALLENGER\" # \"LIVE\", \"CHALLENGER\", OR \"CANDIDATE\"\n",
    "# )\n"
   ]
  },
  {
   "cell_type": "code",
   "execution_count": null,
   "metadata": {
    "ExecuteTime": {
     "end_time": "2022-04-11T13:44:34.320440Z",
     "start_time": "2022-04-11T13:44:33.893012Z"
    },
    "hidden": true
   },
   "outputs": [],
   "source": [
    "update_job = test_segment.updateModels()\n"
   ]
  },
  {
   "cell_type": "markdown",
   "metadata": {
    "hidden": true
   },
   "source": [
    "Wait for model to be deployed."
   ]
  },
  {
   "cell_type": "code",
   "execution_count": null,
   "metadata": {
    "ExecuteTime": {
     "end_time": "2022-04-11T13:44:44.430086Z",
     "start_time": "2022-04-11T13:44:34.321797Z"
    },
    "hidden": true
   },
   "outputs": [],
   "source": [
    "# update_job.status()\n",
    "\n",
    "monitor_job_status(update_job)"
   ]
  },
  {
   "cell_type": "markdown",
   "metadata": {
    "heading_collapsed": true
   },
   "source": [
    "### Step 10:  Evaluate Model and persist predictions and feature contributions on the subjects with the deployed model. <a class=\"anchor\" id=\"1.10\">"
   ]
  },
  {
   "cell_type": "markdown",
   "metadata": {
    "hidden": true
   },
   "source": [
    "We will now submit jobs to score, predict and interpret results from our machine learning model. The results are persisted automatically and can be efficiently queried from other applications."
   ]
  },
  {
   "cell_type": "code",
   "execution_count": null,
   "metadata": {
    "ExecuteTime": {
     "end_time": "2022-04-11T13:44:44.434847Z",
     "start_time": "2022-04-11T13:44:44.432556Z"
    },
    "hidden": true
   },
   "outputs": [],
   "source": [
    "partial_data_source_spec = c3.EvalMetricsMLPartialDataSourceSpec(start=\"2016-01-01\",\n",
    "                                                                 end=\"2021-01-01\") # MLPartialDataSourceSpec subtype for your dataset\n"
   ]
  },
  {
   "cell_type": "code",
   "execution_count": null,
   "metadata": {
    "ExecuteTime": {
     "end_time": "2022-04-11T13:44:45.069776Z",
     "start_time": "2022-04-11T13:44:44.436054Z"
    },
    "hidden": true
   },
   "outputs": [],
   "source": [
    "score_job = test_segment.score(\n",
    "    partialDataSpec=partial_data_source_spec\n",
    ")\n",
    "\n",
    "prediction_job = test_segment.predict(\n",
    "    partialDataSpec=partial_data_source_spec\n",
    ")\n",
    "\n",
    "interpret_job = test_segment.interpret(\n",
    "    partialDataSpec=partial_data_source_spec\n",
    ")\n"
   ]
  },
  {
   "cell_type": "code",
   "execution_count": null,
   "metadata": {
    "ExecuteTime": {
     "end_time": "2022-04-11T13:45:55.558851Z",
     "start_time": "2022-04-11T13:44:45.071075Z"
    },
    "hidden": true
   },
   "outputs": [],
   "source": [
    "# score_job.status()\n",
    "\n",
    "monitor_job_status(score_job)"
   ]
  },
  {
   "cell_type": "markdown",
   "metadata": {
    "hidden": true
   },
   "source": [
    "Wait for prediction and feature contribution jobs to complete."
   ]
  },
  {
   "cell_type": "code",
   "execution_count": null,
   "metadata": {
    "ExecuteTime": {
     "end_time": "2022-04-11T13:45:55.624490Z",
     "start_time": "2022-04-11T13:45:55.560231Z"
    },
    "hidden": true
   },
   "outputs": [],
   "source": [
    "# prediction_job.status()\n",
    "\n",
    "monitor_job_status(prediction_job)"
   ]
  },
  {
   "cell_type": "code",
   "execution_count": null,
   "metadata": {
    "ExecuteTime": {
     "end_time": "2022-04-11T13:46:05.799562Z",
     "start_time": "2022-04-11T13:45:55.625805Z"
    },
    "hidden": true,
    "scrolled": false
   },
   "outputs": [],
   "source": [
    "# interpret_job.status()\n",
    "\n",
    "monitor_job_status(interpret_job)"
   ]
  },
  {
   "cell_type": "markdown",
   "metadata": {
    "hidden": true
   },
   "source": [
    "View the results of the prediction job for a single subject."
   ]
  },
  {
   "cell_type": "code",
   "execution_count": null,
   "metadata": {
    "ExecuteTime": {
     "end_time": "2022-04-11T13:46:07.704443Z",
     "start_time": "2022-04-11T13:46:05.800947Z"
    },
    "hidden": true
   },
   "outputs": [],
   "source": [
    "predictions_emr = c3.MLModel.evalMetrics(spec=c3.EvalMetricsSpec(\n",
    "    ids=[trained_ml_model.id], expressions=[\"MLProjectPrediction\"], \n",
    "    start=\"2016-01-01\", end=\"2021-01-01\",\n",
    "    bindings=[{\"subjectId\": \"SMBLB2\"}],\n",
    "    interval=\"HOUR\",\n",
    "    resultKey=c3.Lambda.fromPython(\"lambda expression, bindings: expression + ('_' + bindings.get('featName', '') if expression == 'MLProjectContribution' else '')\")\n",
    "))"
   ]
  },
  {
   "cell_type": "code",
   "execution_count": null,
   "metadata": {
    "ExecuteTime": {
     "end_time": "2022-04-11T13:46:08.642828Z",
     "start_time": "2022-04-11T13:46:07.705762Z"
    },
    "hidden": true
   },
   "outputs": [],
   "source": [
    "c3.EvalMetricsResult.toPandas(predictions_emr, multiIndexed=True).droplevel(0).plot(figsize=(16, 4))"
   ]
  },
  {
   "cell_type": "markdown",
   "metadata": {
    "hidden": true
   },
   "source": [
    "View the results of the interpret job for a single subject:"
   ]
  },
  {
   "cell_type": "code",
   "execution_count": null,
   "metadata": {
    "ExecuteTime": {
     "end_time": "2022-04-11T13:46:20.246731Z",
     "start_time": "2022-04-11T13:46:08.644217Z"
    },
    "hidden": true,
    "scrolled": true
   },
   "outputs": [],
   "source": [
    "feature_contributions_emr = c3.MLModel.evalMetrics(spec=c3.EvalMetricsSpec(\n",
    "    ids=[trained_ml_model.id], expressions=[\"MLProjectContribution\"], \n",
    "    start=\"2016-01-01\", end=\"2021-01-01\",\n",
    "    bindings=[{\"featName\": feat, \"subjectId\": \"SMBLB2\"} for feat in features],\n",
    "    interval=\"DAY\",\n",
    "    resultKey=c3.Lambda.fromPython(\"lambda expression, bindings: expression + ('_' + bindings.get('featName', '') if expression == 'MLProjectContribution' else '')\")\n",
    "))"
   ]
  },
  {
   "cell_type": "code",
   "execution_count": null,
   "metadata": {
    "ExecuteTime": {
     "end_time": "2022-04-11T13:46:20.441412Z",
     "start_time": "2022-04-11T13:46:20.248172Z"
    },
    "hidden": true
   },
   "outputs": [],
   "source": [
    "c3.EvalMetricsResult.toPandas(feature_contributions_emr, multiIndexed=True).droplevel(0).plot(figsize=(16, 4))\n"
   ]
  },
  {
   "cell_type": "markdown",
   "metadata": {
    "hidden": true
   },
   "source": [
    "View Scores resulting from our scoring job:"
   ]
  },
  {
   "cell_type": "code",
   "execution_count": null,
   "metadata": {
    "ExecuteTime": {
     "end_time": "2022-04-11T13:46:25.981949Z",
     "start_time": "2022-04-11T13:46:20.443022Z"
    },
    "hidden": true
   },
   "outputs": [],
   "source": [
    "start = trained_ml_model.get(\"scores.data.this\").scores[0].data[0].start\n",
    "scores_emr = c3.MLModel.evalMetrics(spec=c3.EvalMetricsSpec(\n",
    "                ids=[trained_ml_model.id], expressions=[\"Score\"], \n",
    "                start=start - timedelta(hours=3), end=start + timedelta(hours=12),\n",
    "                bindings=[{'scoringMetricName': 'MLAccuracyMetric'},\n",
    "                          {'scoringMetricName': 'MLF1ScoreMetric'},\n",
    "                          {'scoringMetricName': 'MLPrecisionMetric'},\n",
    "                          {'scoringMetricName': 'MLRecallMetric'}],\n",
    "                interval=\"DAY\",\n",
    "                resultKey=c3.Lambda.fromPython(\"lambda expression, bindings: expression + '_' + bindings['scoringMetricName']\")\n",
    "))\n"
   ]
  },
  {
   "cell_type": "code",
   "execution_count": null,
   "metadata": {
    "ExecuteTime": {
     "end_time": "2022-04-11T13:46:26.473726Z",
     "start_time": "2022-04-11T13:46:25.983508Z"
    },
    "hidden": true,
    "scrolled": true
   },
   "outputs": [],
   "source": [
    "c3.EvalMetricsResult.toPandas(scores_emr, multiIndexed=True).droplevel(0).plot(figsize=(12, 4), marker='x', grid=True, subplots=True)"
   ]
  },
  {
   "cell_type": "markdown",
   "metadata": {
    "hidden": true
   },
   "source": [
    "**Congratulations! You have just deployed a ```LIVE``` machine learning model in production using best practices that allow you to scale seamlessly. Now your applications can begin querying your model to generate predictions, feature contributions and scores that are automatically persisted.** "
   ]
  },
  {
   "cell_type": "code",
   "execution_count": null,
   "metadata": {
    "hidden": true
   },
   "outputs": [],
   "source": []
  },
  {
   "cell_type": "markdown",
   "metadata": {
    "heading_collapsed": true
   },
   "source": [
    "### View the ids of the created MLProject and of the trained MLModel from the project (the \"LIVE\" model) in the cells below."
   ]
  },
  {
   "cell_type": "code",
   "execution_count": null,
   "metadata": {
    "ExecuteTime": {
     "end_time": "2022-04-11T13:46:26.477313Z",
     "start_time": "2022-04-11T13:46:26.475151Z"
    },
    "hidden": true
   },
   "outputs": [],
   "source": [
    "# project"
   ]
  },
  {
   "cell_type": "code",
   "execution_count": null,
   "metadata": {
    "ExecuteTime": {
     "end_time": "2022-04-11T13:46:26.490615Z",
     "start_time": "2022-04-11T13:46:26.478610Z"
    },
    "hidden": true
   },
   "outputs": [],
   "source": [
    "project.id"
   ]
  },
  {
   "cell_type": "code",
   "execution_count": null,
   "metadata": {
    "ExecuteTime": {
     "end_time": "2022-04-11T13:46:26.501551Z",
     "start_time": "2022-04-11T13:46:26.491872Z"
    },
    "hidden": true
   },
   "outputs": [],
   "source": [
    "trained_ml_model.id"
   ]
  },
  {
   "cell_type": "code",
   "execution_count": null,
   "metadata": {
    "hidden": true
   },
   "outputs": [],
   "source": []
  }
 ],
 "metadata": {
  "has_local_update": true,
  "is_local": true,
  "is_remote": true,
  "kernelspec": {
   "display_name": "Python 3 (ipykernel)",
   "language": "python",
   "name": "python3"
  },
  "language_info": {
   "codemirror_mode": {
    "name": "ipython",
    "version": 3
   },
   "file_extension": ".py",
   "mimetype": "text/x-python",
   "name": "python",
   "nbconvert_exporter": "python",
   "pygments_lexer": "ipython3",
   "version": "3.9.7"
  },
  "last_sync_time": "2022-04-12T05:48:17.494608"
 },
 "nbformat": 4,
 "nbformat_minor": 4
}
